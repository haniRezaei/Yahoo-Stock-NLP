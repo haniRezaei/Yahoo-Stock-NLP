{
 "cells": [
  {
   "cell_type": "code",
   "execution_count": 1,
   "id": "dc14fc72",
   "metadata": {},
   "outputs": [],
   "source": [
    "import numpy as np\n",
    "import pandas as pd\n",
    "import matplotlib.pyplot as plt\n",
    "import seaborn as sns\n",
    "import re\n",
    "import nltk\n",
    "from nltk.tokenize import word_tokenize\n",
    "from nltk.corpus import stopwords\n",
    "from nltk.stem import WordNetLemmatizer\n",
    "from textblob import TextBlob"
   ]
  },
  {
   "cell_type": "code",
   "execution_count": 2,
   "id": "380fb6f2",
   "metadata": {},
   "outputs": [],
   "source": [
    "df=pd.read_csv(\"C:/Users/Hanieh/Desktop/New folder (7)/NEWS_YAHOO_stock_prediction.csv\")"
   ]
  },
  {
   "cell_type": "code",
   "execution_count": 3,
   "id": "f7a63257",
   "metadata": {
    "scrolled": false
   },
   "outputs": [
    {
     "data": {
      "text/html": [
       "<div>\n",
       "<style scoped>\n",
       "    .dataframe tbody tr th:only-of-type {\n",
       "        vertical-align: middle;\n",
       "    }\n",
       "\n",
       "    .dataframe tbody tr th {\n",
       "        vertical-align: top;\n",
       "    }\n",
       "\n",
       "    .dataframe thead th {\n",
       "        text-align: right;\n",
       "    }\n",
       "</style>\n",
       "<table border=\"1\" class=\"dataframe\">\n",
       "  <thead>\n",
       "    <tr style=\"text-align: right;\">\n",
       "      <th></th>\n",
       "      <th>Unnamed: 0</th>\n",
       "      <th>ticker</th>\n",
       "      <th>Date</th>\n",
       "      <th>category</th>\n",
       "      <th>title</th>\n",
       "      <th>content</th>\n",
       "      <th>Open</th>\n",
       "      <th>High</th>\n",
       "      <th>Low</th>\n",
       "      <th>Close</th>\n",
       "      <th>Adj Close</th>\n",
       "      <th>Volume</th>\n",
       "      <th>label</th>\n",
       "    </tr>\n",
       "  </thead>\n",
       "  <tbody>\n",
       "    <tr>\n",
       "      <th>0</th>\n",
       "      <td>0</td>\n",
       "      <td>AAPL</td>\n",
       "      <td>2020-01-27</td>\n",
       "      <td>opinion</td>\n",
       "      <td>Apple Set To Beat Q1 Earnings Estimates  Tech ...</td>\n",
       "      <td>Technology giant Apple   NASDAQ AAPL   is set ...</td>\n",
       "      <td>77.514999</td>\n",
       "      <td>77.942497</td>\n",
       "      <td>76.220001</td>\n",
       "      <td>77.237503</td>\n",
       "      <td>75.793358</td>\n",
       "      <td>161940000</td>\n",
       "      <td>0</td>\n",
       "    </tr>\n",
       "    <tr>\n",
       "      <th>1</th>\n",
       "      <td>1</td>\n",
       "      <td>AAPL</td>\n",
       "      <td>2020-01-27</td>\n",
       "      <td>opinion</td>\n",
       "      <td>Tech Daily  Intel Results  Netflix Surge  Appl...</td>\n",
       "      <td>The top stories in this digest are Intel s   N...</td>\n",
       "      <td>77.514999</td>\n",
       "      <td>77.942497</td>\n",
       "      <td>76.220001</td>\n",
       "      <td>77.237503</td>\n",
       "      <td>75.793358</td>\n",
       "      <td>161940000</td>\n",
       "      <td>0</td>\n",
       "    </tr>\n",
       "    <tr>\n",
       "      <th>2</th>\n",
       "      <td>2</td>\n",
       "      <td>AAPL</td>\n",
       "      <td>2020-01-27</td>\n",
       "      <td>opinion</td>\n",
       "      <td>7 Monster Stock Market Predictions For The Wee...</td>\n",
       "      <td>S P 500  SPY \\nThis week will be packed with e...</td>\n",
       "      <td>77.514999</td>\n",
       "      <td>77.942497</td>\n",
       "      <td>76.220001</td>\n",
       "      <td>77.237503</td>\n",
       "      <td>75.793358</td>\n",
       "      <td>161940000</td>\n",
       "      <td>0</td>\n",
       "    </tr>\n",
       "    <tr>\n",
       "      <th>3</th>\n",
       "      <td>3</td>\n",
       "      <td>AAPL</td>\n",
       "      <td>2020-01-27</td>\n",
       "      <td>opinion</td>\n",
       "      <td>Apple Earnings Preview  5G Launch  Expanding S...</td>\n",
       "      <td>Reports Q1 2020 results on Tuesday  Jan  28 ...</td>\n",
       "      <td>77.514999</td>\n",
       "      <td>77.942497</td>\n",
       "      <td>76.220001</td>\n",
       "      <td>77.237503</td>\n",
       "      <td>75.793358</td>\n",
       "      <td>161940000</td>\n",
       "      <td>0</td>\n",
       "    </tr>\n",
       "    <tr>\n",
       "      <th>4</th>\n",
       "      <td>4</td>\n",
       "      <td>AAPL</td>\n",
       "      <td>2020-01-27</td>\n",
       "      <td>opinion</td>\n",
       "      <td>Buy Surging Apple   Microsoft Stock Before Qua...</td>\n",
       "      <td>On today s episode of Full Court Finance here ...</td>\n",
       "      <td>77.514999</td>\n",
       "      <td>77.942497</td>\n",
       "      <td>76.220001</td>\n",
       "      <td>77.237503</td>\n",
       "      <td>75.793358</td>\n",
       "      <td>161940000</td>\n",
       "      <td>0</td>\n",
       "    </tr>\n",
       "  </tbody>\n",
       "</table>\n",
       "</div>"
      ],
      "text/plain": [
       "   Unnamed: 0 ticker        Date category  \\\n",
       "0           0   AAPL  2020-01-27  opinion   \n",
       "1           1   AAPL  2020-01-27  opinion   \n",
       "2           2   AAPL  2020-01-27  opinion   \n",
       "3           3   AAPL  2020-01-27  opinion   \n",
       "4           4   AAPL  2020-01-27  opinion   \n",
       "\n",
       "                                               title  \\\n",
       "0  Apple Set To Beat Q1 Earnings Estimates  Tech ...   \n",
       "1  Tech Daily  Intel Results  Netflix Surge  Appl...   \n",
       "2  7 Monster Stock Market Predictions For The Wee...   \n",
       "3  Apple Earnings Preview  5G Launch  Expanding S...   \n",
       "4  Buy Surging Apple   Microsoft Stock Before Qua...   \n",
       "\n",
       "                                             content       Open       High  \\\n",
       "0  Technology giant Apple   NASDAQ AAPL   is set ...  77.514999  77.942497   \n",
       "1  The top stories in this digest are Intel s   N...  77.514999  77.942497   \n",
       "2  S P 500  SPY \\nThis week will be packed with e...  77.514999  77.942497   \n",
       "3    Reports Q1 2020 results on Tuesday  Jan  28 ...  77.514999  77.942497   \n",
       "4  On today s episode of Full Court Finance here ...  77.514999  77.942497   \n",
       "\n",
       "         Low      Close  Adj Close     Volume  label  \n",
       "0  76.220001  77.237503  75.793358  161940000      0  \n",
       "1  76.220001  77.237503  75.793358  161940000      0  \n",
       "2  76.220001  77.237503  75.793358  161940000      0  \n",
       "3  76.220001  77.237503  75.793358  161940000      0  \n",
       "4  76.220001  77.237503  75.793358  161940000      0  "
      ]
     },
     "execution_count": 3,
     "metadata": {},
     "output_type": "execute_result"
    }
   ],
   "source": [
    "df.head()"
   ]
  },
  {
   "cell_type": "code",
   "execution_count": 41,
   "id": "fb2eee36",
   "metadata": {},
   "outputs": [
    {
     "data": {
      "text/plain": [
       "(15975, 19)"
      ]
     },
     "execution_count": 41,
     "metadata": {},
     "output_type": "execute_result"
    }
   ],
   "source": [
    "df.shape"
   ]
  },
  {
   "cell_type": "code",
   "execution_count": 42,
   "id": "009c0b27",
   "metadata": {},
   "outputs": [
    {
     "data": {
      "text/plain": [
       "array(['opinion', 'news'], dtype=object)"
      ]
     },
     "execution_count": 42,
     "metadata": {},
     "output_type": "execute_result"
    }
   ],
   "source": [
    "df[\"category\"].unique()"
   ]
  },
  {
   "cell_type": "code",
   "execution_count": 4,
   "id": "45959294",
   "metadata": {},
   "outputs": [
    {
     "data": {
      "text/plain": [
       "'Tech Daily  Intel Results  Netflix Surge  Apple Valuation  Google ATVI Deal  More'"
      ]
     },
     "execution_count": 4,
     "metadata": {},
     "output_type": "execute_result"
    }
   ],
   "source": [
    "df[\"title\"][1]"
   ]
  },
  {
   "cell_type": "code",
   "execution_count": 5,
   "id": "5b8d599b",
   "metadata": {
    "scrolled": false
   },
   "outputs": [
    {
     "data": {
      "text/plain": [
       "'The top stories in this digest are Intel s   NYSE T   earnings  Netflix s   NASDAQ NFLX   surging share price  Apple s   NASDAQ AAPL   valuation concerns  the Alphabet   NASDAQ GOOGL   Activision   NYSE T   deal and positive sentiment on the memory chip segment  These and other stories are detailed below Intel ResultsIntel s reported earnings of  1 52 thrashed the Zacks Consensus Estimate of  1 24 while revenues of  20 2 billion did just as well  beating the expectation of  19 2 billion While performance was mixed across segments  the company s all important DCG segment did much better than expected  Notably  investors heaved a sigh of relief as sales to cloud service providers grew 48   allaying fears that they ve successfully built in house components  This was the primary driver of share prices  which jumped around 9  since the announcement Telecom service providers also provided some 5G related strength  but at 14  growth it wasn t as significant  As expected  the PC business where Intel has the dominant share  held up well 2020 capex guidance of  17 billion was above 2019 levels of  16 2 billion  because of expected 7nm and 5 nm investments While the first quarter will be another strong one for the DCG business  growth is expected to stabilize thereafter as cloud customers  digest  the purchases and competition  likely from AMD  increases  The PC market will also see the effect of Windows 7 end of life support Netflix Surge Comparing Netflix to introductory pricing and   or inferior OTT products as a justification for worrying about the competitive climate is missing the fact that the cable  telecom  and satellite video industry  where all the money is  is shrinking with no end in sight   Stifel analyst Scott Devitt said  in no uncertain terms  As a result  he expects the shares to double in the next 4 5 years Its illustrious streaming peers Disney   Amazon   NASDAQ AMZN   Prime Video  Apple  TV  and soon  AT T   NYSE T   notwithstanding  the analyst thinks that traditional TV is the company s main competition  so the increase in cord cutters is the real positive for the stock The thinking seems to be that despite increased competition  validated by management s comment about increased quarterly churn when two rivals launched   the expansion of the streaming space itself will boost Netflix numbers So investors were willing to set aside concerns related to muted subscriber growth expectations  scope for price increases and interesting reclassification of views that management talked about on the earnings call  sending the shares up Apple Opposes EU Common Charger The EC has spent a decade calling for a common charger for all mobile phones to mitigate the environmental impact of extra chargers  In 2009  it even managed to get smartphone market leaders Apple  Samsung  KS 005930   Huawei and Nokia  HE NOKIA  to sign a voluntary memorandum of understanding agreeing to harmonize chargers beginning with their next models to be launched in 2011 \\nHowever  while most mobile companies moved to USB C  Apple stayed aloof  The company is now saying that the EU shouldn t make laws that stifle innovation  especially when the actual gain is debatable  Apple sponsored study by Copenhagen Economics showed that consumer harm from statutorily mandated common chargers would cost at least 1 5 billion euros  while associated environmental benefits would be around 13 million euros  Analysts Weigh In on AppleAnalysts more or less hold the view that Apple the company is doing great while Apple the stock is doing somewhat better  That s why  following the 86 1  appreciation in 2019 and 8 4  appreciation since then  are making them a bit nervous   Wamsi Mohan of BofA  reiterates Buy rating  raises price target from  330 to  340  most recently commented that  the 5G cycle offers multi year visibility on iPhone sales and this  combined with double digit Services revenue growth  has driven the multiple higher  in our opinion  We expect another leg up in the stock after Apple reports  with AirPods and iPhone 11 supporting results and LCD phones impacting the gross margin But after that  the analyst thinks that positive estimate revisions will likely be unachievable because of tariff  gross margin and opex headwinds  Specifically  there is  according to him a pricing dilemma related to 5G phones  higher prices will impact sales while lower prices will hurt margins   the likelihood of gross profit dollar growth peaking in the March quarter and consensus touting buybacks too much  all while the P E advances to the high end of the long term range Andy Hargreaves of KeyBanc Capital Markets held a similar view that the valuation  appears to require a sustained re acceleration in top line growth that we do not anticipate  while leaving little room for error  and  limits the potential for further multiple expansion   He s also concerned about potential declines in iPhone average selling prices   stagnating  user growth and brand risk in China  He too is optimistic about the soon to be reported quarter Microsoft Analyst OpinionBrent Bracelin of Piper Sandler reiterated his Overweight rating on Microsoft   NYSE T   shares and bumped up the price target from  158 to  190 Apart from its net cash position of  67 billion on the balance sheet and a potential operating cash of  200 million over the next three years that will bolster M A and support business growth  the analyst sees positives in cloud revenue CAGR acceleration from 8 5  to 12   developer relation building through GitHub and Visual Studio Code  and potential gains from a major gaming console cycle \\nThe only things he s cautious about are Intel CPU shortages that could impact Windows and Surface devices and the tapering off of benefits from the end of life of Windows 7  Server 2008 and SQL MS Turns Positive on Memory Chip OutlookMorgan Stanley  NYSE MS  analyst Joseph Moore upgraded Micron   NASDAQ MU   and Western Digital   NASDAQ WDC   stocks to overweight from equal weight  Additionally  Micron s price target went from  56 to  73 while Western Digital s moved from  64 to  88 \\n We did not expect memory fundamentals to bottom this quickly  but as proof points grow  the ramifications are significant   Further   The higher trough and the elevated valuation environment for semis suggests memory rerating potential even give the moves we have already seen  While admitting that memory prices  started to stabilize six months ago   he said that  we have seen a notable difference in mentality from memory buyers that belatedly convinces us that these changes can persist   Moreover  his channel checks confirm that supply will get tighter through the year even as more inventory is made available Cowen analyst Karl Ackerman agrees and attributes the changed buyer mentality to smartphones   the sponge that is quickly soaking up excess memory supply   thus pressuring supply and raising prices  He says Micron particularly but also Western Digital will benefit from this Susquehana upgraded the stocks toward the end of December when RBC Capital Markets announced the official  bottom on memory pricing  Google Search Results DesignAn algorithm change that Google is rolling out widely after first pushing out to mobile users will present the search results in a way that they become practically indistinguishable from ads that are stuffed into the top of the page  This could be a way for it to keep search advertising dollars growing strongly as users click on ads they assume to be search results  It makes sense because competition is stiffer today than it has ever been before      Google Partners with ActivisionActivision Blizzard  NASDAQ ATVI  has chosen Google Cloud as its infrastructure partner citing  highly reliable global footprint  advanced data analytics and artificial intelligence capabilities  and commitment to open source  creating a platform for building future gaming innovations   Moreover  it has made YouTube Gaming its exclusive streaming partner Live streaming of esports requires low latency and power to ensure quick response time and high quality video that are essential for a consistent experience across devices  ActiVision is a leader in the place and this is a real feather in the cap for YouTube Gaming  especially since it has wrested the deal away from Amazon s Twitch  ActiVision s earlier partner Attorneys General Take Tough Stand on GoogleIn a first ever move  U S  state attorneys general are meeting Justice Department attorneys this week  to discuss Google s likely inappropriate actions and abuse of position as the dominant player in the online advertising and search markets  The company is up against separate probes by federal and state agencies for anticompetitive behavior  but this meeting is more about exchange of information and says something about the behemoth Google has become Google s headaches increased last year  when after paying a hefty fine to the EU  the attorneys general from 48 U S  states  the District of Columbia and Puerto Rico formally launched an investigation into its activities And they aren t stopping there  Attorneys general from nine states have also urged U S  District Judge Charles Breyer in San Francisco to set aside Google s settlement with privacy rights organizations and some individual consumers who led a class action lawsuit for violation of privacy with respect to its Streetview mapping technology Amazon Brand Leads Google  Apple MicrosoftAccording to the Brand Finance Global 500 index  Amazon s brand value soared 17 5  in 2019 to  220 8 billion  the first company to cross the  200 billion mark  It was followed by Google  Apple  Microsoft and then  Samsung  Chinese brands Industrial and Commercial Bank of China  Huawei and insurer Ping came next with Facebook  NASDAQ FB  and Walmart  NYSE WMT  rounding out the top ten Amazon Employees on Climate Change300 employees belonging to the advocacy group Amazon Employees For Climate Justice signed a blog post demanding environment friendly operations  Many also made public statements about the company s limited progress on addressing climate change issues  The current target is to become a zero emissions company by 2040  but these employees believe that given its size and financial capabilities  the company should do more and even take a leadership role in effecting change Amazon s response was succinctly clear   While all employees are welcome to engage constructively with any of the many teams inside Amazon that work on sustainability and other topics  we do enforce our external communications policy and will not allow employees to publicly disparage or misrepresent the company or the hard work of their colleagues who are developing solutions to these hard problems   Employees have reportedly been warned that they could get fired for protesting too hard Today s Best Stocks from ZacksWould you like to see the updated picks from our best market beating strategies  From 2017 through 2019  while the S P 500 gained an impressive  53 6   five of our strategies returned  65 8    97 1    118 0    175 7  and even  186 7  This outperformance has not just been a recent phenomenon  From 2000   2019  while the S P averaged  6 0  per year  our top strategies averaged up to  54 7  per year '"
      ]
     },
     "execution_count": 5,
     "metadata": {},
     "output_type": "execute_result"
    }
   ],
   "source": [
    "df[\"content\"][1]"
   ]
  },
  {
   "cell_type": "code",
   "execution_count": 6,
   "id": "f54242f9",
   "metadata": {},
   "outputs": [],
   "source": [
    "df.drop(columns=\"Unnamed: 0\",inplace=True)"
   ]
  },
  {
   "cell_type": "code",
   "execution_count": 7,
   "id": "59179e8c",
   "metadata": {
    "scrolled": false
   },
   "outputs": [
    {
     "data": {
      "text/plain": [
       "ticker       0\n",
       "Date         0\n",
       "category     0\n",
       "title        0\n",
       "content      0\n",
       "Open         0\n",
       "High         0\n",
       "Low          0\n",
       "Close        0\n",
       "Adj Close    0\n",
       "Volume       0\n",
       "label        0\n",
       "dtype: int64"
      ]
     },
     "execution_count": 7,
     "metadata": {},
     "output_type": "execute_result"
    }
   ],
   "source": [
    "df.isnull().sum()"
   ]
  },
  {
   "cell_type": "code",
   "execution_count": 43,
   "id": "a2d946c9",
   "metadata": {
    "scrolled": true
   },
   "outputs": [
    {
     "data": {
      "text/plain": [
       "8"
      ]
     },
     "execution_count": 43,
     "metadata": {},
     "output_type": "execute_result"
    }
   ],
   "source": [
    "df.duplicated().sum()"
   ]
  },
  {
   "cell_type": "code",
   "execution_count": 44,
   "id": "1f6b197b",
   "metadata": {},
   "outputs": [],
   "source": [
    "#remove duplicates\n",
    "\n",
    "df=df.drop_duplicates()"
   ]
  },
  {
   "cell_type": "code",
   "execution_count": 8,
   "id": "fa7c2de1",
   "metadata": {},
   "outputs": [
    {
     "data": {
      "text/plain": [
       "label\n",
       "1    8840\n",
       "0    7135\n",
       "Name: count, dtype: int64"
      ]
     },
     "execution_count": 8,
     "metadata": {},
     "output_type": "execute_result"
    }
   ],
   "source": [
    "df[\"label\"].value_counts()"
   ]
  },
  {
   "cell_type": "code",
   "execution_count": 9,
   "id": "f4caae46",
   "metadata": {},
   "outputs": [
    {
     "name": "stderr",
     "output_type": "stream",
     "text": [
      "C:\\Users\\Hanieh\\AppData\\Local\\Temp\\ipykernel_25892\\101036708.py:2: FutureWarning: \n",
      "\n",
      "Passing `palette` without assigning `hue` is deprecated and will be removed in v0.14.0. Assign the `x` variable to `hue` and set `legend=False` for the same effect.\n",
      "\n",
      "  sns.countplot(x=\"label\",data=df,palette=\"Set3\")\n"
     ]
    },
    {
     "data": {
      "image/png": "[encoded data removed]",
      "text/plain": [
       "<Figure size 500x500 with 1 Axes>"
      ]
     },
     "metadata": {},
     "output_type": "display_data"
    }
   ],
   "source": [
    "plt.figure(figsize=(5,5))\n",
    "sns.countplot(x=\"label\",data=df,palette=\"Set3\")\n",
    "plt.xlabel(\"label\")\n",
    "\n",
    "# Adding data labels on top of the bars\n",
    "for bar in plt.gca().patches:\n",
    "    height = bar.get_height()\n",
    "    x = bar.get_x() + bar.get_width() / 2\n",
    "    plt.text(x, height, str(int(height)), ha='center', va='bottom')\n"
   ]
  },
  {
   "cell_type": "code",
   "execution_count": 10,
   "id": "9d836cb6",
   "metadata": {},
   "outputs": [
    {
     "data": {
      "text/plain": [
       "<matplotlib.legend.Legend at 0x28f469e23d0>"
      ]
     },
     "execution_count": 10,
     "metadata": {},
     "output_type": "execute_result"
    },
    {
     "data": {
      "image/png": "[encoded data removed]",
      "text/plain": [
       "<Figure size 500x500 with 1 Axes>"
      ]
     },
     "metadata": {},
     "output_type": "display_data"
    }
   ],
   "source": [
    "labels=[\"1:up\",\"0:down\"]\n",
    "plt.figure(figsize=(5,5))\n",
    "plt.pie(x=df[\"label\"].value_counts(),autopct=\"%0.2f%%\",colors=(\"pink\",\"skyblue\"))\n",
    "plt.legend(labels)"
   ]
  },
  {
   "cell_type": "code",
   "execution_count": 11,
   "id": "18de6d87",
   "metadata": {},
   "outputs": [
    {
     "data": {
      "text/plain": [
       "Index(['ticker', 'Date', 'category', 'title', 'content', 'Open', 'High', 'Low',\n",
       "       'Close', 'Adj Close', 'Volume', 'label'],\n",
       "      dtype='object')"
      ]
     },
     "execution_count": 11,
     "metadata": {},
     "output_type": "execute_result"
    }
   ],
   "source": [
    "df.columns"
   ]
  },
  {
   "cell_type": "code",
   "execution_count": 12,
   "id": "829c8cd0",
   "metadata": {},
   "outputs": [],
   "source": [
    "df[\"text\"]=df[\"title\"]+\" \"+df[\"content\"]"
   ]
  },
  {
   "cell_type": "code",
   "execution_count": 13,
   "id": "c2598197",
   "metadata": {
    "scrolled": false
   },
   "outputs": [],
   "source": [
    "#Clean the Text\n",
    "\n",
    "stop=set(stopwords.words(\"english\"))\n",
    "lemmatizer=WordNetLemmatizer()\n",
    "\n",
    "def clean_text(text):\n",
    "    text=re.sub(r\"[^\\w\\s]\",\"\",text.lower())\n",
    "    text=re.sub(r\"\\s+\",\" \",text)\n",
    "    tokens=word_tokenize(text)\n",
    "    output=[lemmatizer.lemmatize(words) for words in tokens if words.isalpha() and words not in stop]\n",
    "    return \" \".join(output)\n",
    "\n",
    "df[\"text\"]=df[\"text\"].apply(clean_text)"
   ]
  },
  {
   "cell_type": "code",
   "execution_count": 28,
   "id": "27ecd883",
   "metadata": {},
   "outputs": [],
   "source": [
    "#machine learning\n",
    "from sklearn.feature_extraction.text import TfidfVectorizer\n",
    "from sklearn.feature_extraction.text import CountVectorizer\n",
    "from sklearn.model_selection import train_test_split\n",
    "from sklearn.linear_model import LogisticRegression\n",
    "from sklearn.neighbors import KNeighborsClassifier\n",
    "from sklearn.svm import SVC\n",
    "from sklearn.discriminant_analysis import LinearDiscriminantAnalysis\n",
    "from sklearn.metrics import accuracy_score\n",
    "from sklearn.metrics import classification_report\n"
   ]
  },
  {
   "cell_type": "code",
   "execution_count": 62,
   "id": "25923ccb",
   "metadata": {},
   "outputs": [],
   "source": [
    "#TF-IDF\n",
    "vectorizer=TfidfVectorizer()\n",
    "x=vectorizer.fit_transform(df[\"text\"])\n",
    "y=df[\"label\"]\n",
    "\n",
    "#train test split (time based split without data leakage)\n",
    "\n",
    "df=df.sort_values(\"Date\")\n",
    "\n",
    "train_size=int(0.8*len(df))\n",
    "\n",
    "x_train=x[:train_size]\n",
    "x_test=x[train_size:]\n",
    "\n",
    "y_train=y.iloc[:train_size]\n",
    "y_test=y.iloc[train_size:]\n"
   ]
  },
  {
   "cell_type": "code",
   "execution_count": 63,
   "id": "9b6e752c",
   "metadata": {},
   "outputs": [
    {
     "name": "stdout",
     "output_type": "stream",
     "text": [
      "train accuracy:  0.7843106552884992\n",
      "test accuracy:  0.5031308703819661\n",
      "              precision    recall  f1-score   support\n",
      "\n",
      "           0       0.45      0.24      0.31      1500\n",
      "           1       0.52      0.74      0.61      1694\n",
      "\n",
      "    accuracy                           0.50      3194\n",
      "   macro avg       0.48      0.49      0.46      3194\n",
      "weighted avg       0.49      0.50      0.47      3194\n",
      "\n"
     ]
    }
   ],
   "source": [
    "lr=LogisticRegression()\n",
    "lr.fit(x_train.toarray(),y_train)\n",
    "y_pred=lr.predict(x_test.toarray())\n",
    "y_pred_train=lr.predict(x_train.toarray())\n",
    "\n",
    "print(\"train accuracy: \", accuracy_score(y_train,y_pred_train))  \n",
    "print(\"test accuracy: \", accuracy_score(y_test,y_pred))\n",
    "print(classification_report(y_test,y_pred))"
   ]
  },
  {
   "cell_type": "code",
   "execution_count": 64,
   "id": "158f058b",
   "metadata": {},
   "outputs": [
    {
     "name": "stdout",
     "output_type": "stream",
     "text": [
      "train accuracy:  0.7280200422766774\n",
      "test accuracy:  0.5087664370695053\n",
      "              precision    recall  f1-score   support\n",
      "\n",
      "           0       0.47      0.38      0.42      1500\n",
      "           1       0.53      0.62      0.57      1694\n",
      "\n",
      "    accuracy                           0.51      3194\n",
      "   macro avg       0.50      0.50      0.50      3194\n",
      "weighted avg       0.50      0.51      0.50      3194\n",
      "\n"
     ]
    }
   ],
   "source": [
    "#KNN\n",
    "KNN=KNeighborsClassifier()\n",
    "KNN.fit(x_train.toarray(),y_train)\n",
    "y_pred=KNN.predict(x_test.toarray())\n",
    "y_pred_train=KNN.predict(x_train.toarray())\n",
    "\n",
    "print(\"train accuracy: \", accuracy_score(y_train,y_pred_train))  \n",
    "print(\"test accuracy: \", accuracy_score(y_test,y_pred))\n",
    "print(classification_report(y_test,y_pred))\n"
   ]
  },
  {
   "cell_type": "code",
   "execution_count": 18,
   "id": "cf4b10df",
   "metadata": {},
   "outputs": [],
   "source": [
    "#vader method\n",
    "from vaderSentiment.vaderSentiment import SentimentIntensityAnalyzer\n",
    "analyse=SentimentIntensityAnalyzer()\n",
    "analyse.polarity_scores(df[\"text\"][1])\n",
    "\n",
    "def get_sentiment(text):\n",
    "    return analyse.polarity_scores(str(text))"
   ]
  },
  {
   "cell_type": "code",
   "execution_count": 19,
   "id": "ecef0387",
   "metadata": {},
   "outputs": [],
   "source": [
    "#get polarity and Subjectivity\n",
    "\n",
    "def get_subjectivity(text):\n",
    "    return TextBlob(text).sentiment.subjectivity\n",
    "\n",
    "def get_polarity(text):\n",
    "    return TextBlob(text).sentiment.polarity\n"
   ]
  },
  {
   "cell_type": "code",
   "execution_count": 22,
   "id": "4fac4bfb",
   "metadata": {},
   "outputs": [],
   "source": [
    "# create the two clumns of subjectivity and polarity\n",
    "\n",
    "df[\"sbjectivity\"]=df[\"text\"].apply(get_subjectivity)\n",
    "df[\"polarity\"]=df[\"text\"].apply(get_polarity)"
   ]
  },
  {
   "cell_type": "code",
   "execution_count": 34,
   "id": "5ec0d911",
   "metadata": {},
   "outputs": [],
   "source": [
    "# creating the columns of compound, pos, neg, neu\n",
    "\n",
    "compound=[]\n",
    "neg=[]\n",
    "pos=[]\n",
    "neu=[]\n",
    "\n",
    "for i in range(0, len(df[\"text\"])):\n",
    "    SIA=get_sentiment(df[\"text\"].iloc[i])\n",
    "    compound.append(SIA[\"compound\"])\n",
    "    neg.append(SIA[\"neg\"])\n",
    "    pos.append(SIA[\"pos\"])\n",
    "    neu.append(SIA[\"neu\"])\n",
    "\n",
    "    \n",
    "df[\"compound\"]=compound\n",
    "df[\"neg\"]=neg\n",
    "df[\"pos\"]=pos\n",
    "df[\"neu\"]=neu"
   ]
  },
  {
   "cell_type": "code",
   "execution_count": 36,
   "id": "c1d9f79d",
   "metadata": {},
   "outputs": [
    {
     "data": {
      "text/html": [
       "<div>\n",
       "<style scoped>\n",
       "    .dataframe tbody tr th:only-of-type {\n",
       "        vertical-align: middle;\n",
       "    }\n",
       "\n",
       "    .dataframe tbody tr th {\n",
       "        vertical-align: top;\n",
       "    }\n",
       "\n",
       "    .dataframe thead th {\n",
       "        text-align: right;\n",
       "    }\n",
       "</style>\n",
       "<table border=\"1\" class=\"dataframe\">\n",
       "  <thead>\n",
       "    <tr style=\"text-align: right;\">\n",
       "      <th></th>\n",
       "      <th>ticker</th>\n",
       "      <th>Date</th>\n",
       "      <th>category</th>\n",
       "      <th>title</th>\n",
       "      <th>content</th>\n",
       "      <th>Open</th>\n",
       "      <th>High</th>\n",
       "      <th>Low</th>\n",
       "      <th>Close</th>\n",
       "      <th>Adj Close</th>\n",
       "      <th>Volume</th>\n",
       "      <th>label</th>\n",
       "      <th>text</th>\n",
       "      <th>sbjectivity</th>\n",
       "      <th>polarity</th>\n",
       "      <th>compound</th>\n",
       "      <th>neg</th>\n",
       "      <th>pos</th>\n",
       "      <th>neu</th>\n",
       "    </tr>\n",
       "  </thead>\n",
       "  <tbody>\n",
       "    <tr>\n",
       "      <th>0</th>\n",
       "      <td>AAPL</td>\n",
       "      <td>2020-01-27</td>\n",
       "      <td>opinion</td>\n",
       "      <td>Apple Set To Beat Q1 Earnings Estimates  Tech ...</td>\n",
       "      <td>Technology giant Apple   NASDAQ AAPL   is set ...</td>\n",
       "      <td>77.514999</td>\n",
       "      <td>77.942497</td>\n",
       "      <td>76.220001</td>\n",
       "      <td>77.237503</td>\n",
       "      <td>75.793358</td>\n",
       "      <td>161940000</td>\n",
       "      <td>0</td>\n",
       "      <td>apple set beat earnings estimate tech etf buy ...</td>\n",
       "      <td>0.560170</td>\n",
       "      <td>0.047620</td>\n",
       "      <td>0.9981</td>\n",
       "      <td>0.000</td>\n",
       "      <td>0.265</td>\n",
       "      <td>0.735</td>\n",
       "    </tr>\n",
       "    <tr>\n",
       "      <th>1</th>\n",
       "      <td>AAPL</td>\n",
       "      <td>2020-01-27</td>\n",
       "      <td>opinion</td>\n",
       "      <td>Tech Daily  Intel Results  Netflix Surge  Appl...</td>\n",
       "      <td>The top stories in this digest are Intel s   N...</td>\n",
       "      <td>77.514999</td>\n",
       "      <td>77.942497</td>\n",
       "      <td>76.220001</td>\n",
       "      <td>77.237503</td>\n",
       "      <td>75.793358</td>\n",
       "      <td>161940000</td>\n",
       "      <td>0</td>\n",
       "      <td>tech daily intel result netflix surge apple va...</td>\n",
       "      <td>0.400573</td>\n",
       "      <td>0.129255</td>\n",
       "      <td>0.9991</td>\n",
       "      <td>0.077</td>\n",
       "      <td>0.194</td>\n",
       "      <td>0.729</td>\n",
       "    </tr>\n",
       "    <tr>\n",
       "      <th>2</th>\n",
       "      <td>AAPL</td>\n",
       "      <td>2020-01-27</td>\n",
       "      <td>opinion</td>\n",
       "      <td>7 Monster Stock Market Predictions For The Wee...</td>\n",
       "      <td>S P 500  SPY \\nThis week will be packed with e...</td>\n",
       "      <td>77.514999</td>\n",
       "      <td>77.942497</td>\n",
       "      <td>76.220001</td>\n",
       "      <td>77.237503</td>\n",
       "      <td>75.793358</td>\n",
       "      <td>161940000</td>\n",
       "      <td>0</td>\n",
       "      <td>monster stock market prediction week january p...</td>\n",
       "      <td>0.463413</td>\n",
       "      <td>0.080736</td>\n",
       "      <td>0.9231</td>\n",
       "      <td>0.077</td>\n",
       "      <td>0.128</td>\n",
       "      <td>0.796</td>\n",
       "    </tr>\n",
       "    <tr>\n",
       "      <th>3</th>\n",
       "      <td>AAPL</td>\n",
       "      <td>2020-01-27</td>\n",
       "      <td>opinion</td>\n",
       "      <td>Apple Earnings Preview  5G Launch  Expanding S...</td>\n",
       "      <td>Reports Q1 2020 results on Tuesday  Jan  28 ...</td>\n",
       "      <td>77.514999</td>\n",
       "      <td>77.942497</td>\n",
       "      <td>76.220001</td>\n",
       "      <td>77.237503</td>\n",
       "      <td>75.793358</td>\n",
       "      <td>161940000</td>\n",
       "      <td>0</td>\n",
       "      <td>apple earnings preview launch expanding servic...</td>\n",
       "      <td>0.464761</td>\n",
       "      <td>0.063914</td>\n",
       "      <td>0.9970</td>\n",
       "      <td>0.067</td>\n",
       "      <td>0.254</td>\n",
       "      <td>0.679</td>\n",
       "    </tr>\n",
       "    <tr>\n",
       "      <th>4</th>\n",
       "      <td>AAPL</td>\n",
       "      <td>2020-01-27</td>\n",
       "      <td>opinion</td>\n",
       "      <td>Buy Surging Apple   Microsoft Stock Before Qua...</td>\n",
       "      <td>On today s episode of Full Court Finance here ...</td>\n",
       "      <td>77.514999</td>\n",
       "      <td>77.942497</td>\n",
       "      <td>76.220001</td>\n",
       "      <td>77.237503</td>\n",
       "      <td>75.793358</td>\n",
       "      <td>161940000</td>\n",
       "      <td>0</td>\n",
       "      <td>buy surging apple microsoft stock quarterly ea...</td>\n",
       "      <td>0.385159</td>\n",
       "      <td>0.028214</td>\n",
       "      <td>0.8860</td>\n",
       "      <td>0.059</td>\n",
       "      <td>0.128</td>\n",
       "      <td>0.813</td>\n",
       "    </tr>\n",
       "  </tbody>\n",
       "</table>\n",
       "</div>"
      ],
      "text/plain": [
       "  ticker        Date category  \\\n",
       "0   AAPL  2020-01-27  opinion   \n",
       "1   AAPL  2020-01-27  opinion   \n",
       "2   AAPL  2020-01-27  opinion   \n",
       "3   AAPL  2020-01-27  opinion   \n",
       "4   AAPL  2020-01-27  opinion   \n",
       "\n",
       "                                               title  \\\n",
       "0  Apple Set To Beat Q1 Earnings Estimates  Tech ...   \n",
       "1  Tech Daily  Intel Results  Netflix Surge  Appl...   \n",
       "2  7 Monster Stock Market Predictions For The Wee...   \n",
       "3  Apple Earnings Preview  5G Launch  Expanding S...   \n",
       "4  Buy Surging Apple   Microsoft Stock Before Qua...   \n",
       "\n",
       "                                             content       Open       High  \\\n",
       "0  Technology giant Apple   NASDAQ AAPL   is set ...  77.514999  77.942497   \n",
       "1  The top stories in this digest are Intel s   N...  77.514999  77.942497   \n",
       "2  S P 500  SPY \\nThis week will be packed with e...  77.514999  77.942497   \n",
       "3    Reports Q1 2020 results on Tuesday  Jan  28 ...  77.514999  77.942497   \n",
       "4  On today s episode of Full Court Finance here ...  77.514999  77.942497   \n",
       "\n",
       "         Low      Close  Adj Close     Volume  label  \\\n",
       "0  76.220001  77.237503  75.793358  161940000      0   \n",
       "1  76.220001  77.237503  75.793358  161940000      0   \n",
       "2  76.220001  77.237503  75.793358  161940000      0   \n",
       "3  76.220001  77.237503  75.793358  161940000      0   \n",
       "4  76.220001  77.237503  75.793358  161940000      0   \n",
       "\n",
       "                                                text  sbjectivity  polarity  \\\n",
       "0  apple set beat earnings estimate tech etf buy ...     0.560170  0.047620   \n",
       "1  tech daily intel result netflix surge apple va...     0.400573  0.129255   \n",
       "2  monster stock market prediction week january p...     0.463413  0.080736   \n",
       "3  apple earnings preview launch expanding servic...     0.464761  0.063914   \n",
       "4  buy surging apple microsoft stock quarterly ea...     0.385159  0.028214   \n",
       "\n",
       "   compound    neg    pos    neu  \n",
       "0    0.9981  0.000  0.265  0.735  \n",
       "1    0.9991  0.077  0.194  0.729  \n",
       "2    0.9231  0.077  0.128  0.796  \n",
       "3    0.9970  0.067  0.254  0.679  \n",
       "4    0.8860  0.059  0.128  0.813  "
      ]
     },
     "execution_count": 36,
     "metadata": {},
     "output_type": "execute_result"
    }
   ],
   "source": [
    "df.head()"
   ]
  },
  {
   "cell_type": "code",
   "execution_count": 37,
   "id": "88c74592",
   "metadata": {},
   "outputs": [
    {
     "data": {
      "text/plain": [
       "Index(['ticker', 'Date', 'category', 'title', 'content', 'Open', 'High', 'Low',\n",
       "       'Close', 'Adj Close', 'Volume', 'label', 'text', 'sbjectivity',\n",
       "       'polarity', 'compound', 'neg', 'pos', 'neu'],\n",
       "      dtype='object')"
      ]
     },
     "execution_count": 37,
     "metadata": {},
     "output_type": "execute_result"
    }
   ],
   "source": [
    "df.columns"
   ]
  },
  {
   "cell_type": "code",
   "execution_count": 67,
   "id": "08a8677e",
   "metadata": {},
   "outputs": [],
   "source": [
    "x=df[[ 'Open', 'High', 'Low','Close', 'Adj Close', 'Volume', 'sbjectivity',\n",
    "       'polarity', 'compound', 'neg', 'pos', 'neu']]\n",
    "y=df[\"label\"]\n",
    "\n",
    "x_train,x_test,y_train,y_test=train_test_split(x,y,test_size=0.2,random_state=42)"
   ]
  },
  {
   "cell_type": "code",
   "execution_count": 59,
   "id": "76aceb98",
   "metadata": {},
   "outputs": [],
   "source": [
    "#train test split (time based split without data leakage)\n",
    "\n",
    "#df=df.sort_values(\"Date\")\n",
    "\n",
    "#train_size=int(0.8*len(df))\n",
    "\n",
    "#x_train=x.iloc[:train_size]\n",
    "#x_test=x.iloc[train_size:]\n",
    "\n",
    "#y_train=y.iloc[:train_size]\n",
    "#y_test=y.iloc[train_size:]\n"
   ]
  },
  {
   "cell_type": "code",
   "execution_count": 68,
   "id": "84c1eede",
   "metadata": {
    "scrolled": true
   },
   "outputs": [
    {
     "name": "stdout",
     "output_type": "stream",
     "text": [
      "train accuracy:  0.9350191810851014\n",
      "test_accuracy:  0.9345648090169068\n",
      "              precision    recall  f1-score   support\n",
      "\n",
      "           0       1.00      0.85      0.92      1430\n",
      "           1       0.89      1.00      0.94      1764\n",
      "\n",
      "    accuracy                           0.93      3194\n",
      "   macro avg       0.95      0.93      0.93      3194\n",
      "weighted avg       0.94      0.93      0.93      3194\n",
      "\n"
     ]
    }
   ],
   "source": [
    "#Linear Discriminant Analysis\n",
    "\n",
    "lda=LinearDiscriminantAnalysis()\n",
    "lda.fit(x_train,y_train)\n",
    "y_pred=lda.predict(x_test)\n",
    "y_pred_train=lda.predict(x_train)\n",
    "print(\"train accuracy: \",accuracy_score(y_train,y_pred_train))\n",
    "print(\"test_accuracy: \",accuracy_score(y_test,y_pred))\n",
    "print(classification_report(y_test,y_pred))"
   ]
  },
  {
   "cell_type": "code",
   "execution_count": null,
   "id": "6528e32e",
   "metadata": {},
   "outputs": [],
   "source": []
  }
 ],
 "metadata": {
  "kernelspec": {
   "display_name": "Python 3 (ipykernel)",
   "language": "python",
   "name": "python3"
  },
  "language_info": {
   "codemirror_mode": {
    "name": "ipython",
    "version": 3
   },
   "file_extension": ".py",
   "mimetype": "text/x-python",
   "name": "python",
   "nbconvert_exporter": "python",
   "pygments_lexer": "ipython3",
   "version": "3.11.4"
  }
 },
 "nbformat": 4,
 "nbformat_minor": 5
}
